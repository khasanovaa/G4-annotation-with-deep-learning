{
  "nbformat": 4,
  "nbformat_minor": 0,
  "metadata": {
    "colab": {
      "name": "Training_model.ipynb",
      "provenance": [],
      "collapsed_sections": []
    },
    "kernelspec": {
      "name": "python3",
      "display_name": "Python 3"
    },
    "accelerator": "GPU"
  },
  "cells": [
    {
      "cell_type": "code",
      "metadata": {
        "id": "lJbYp0QeyBl1",
        "colab_type": "code",
        "colab": {}
      },
      "source": [
        "import pandas as pd\n",
        "import numpy as np\n",
        "import gc\n",
        "from scipy import sparse\n",
        "from sklearn.metrics import roc_auc_score\n",
        "import sklearn.metrics as metrics\n",
        "import matplotlib.pyplot as plt\n",
        "from pandas import read_csv"
      ],
      "execution_count": 0,
      "outputs": []
    },
    {
      "cell_type": "code",
      "metadata": {
        "id": "MxuY9fB3Cbul",
        "colab_type": "code",
        "outputId": "96cb8742-61db-42b2-9ed5-806c6d948afa",
        "colab": {
          "base_uri": "https://localhost:8080/",
          "height": 35
        }
      },
      "source": [
        "from __future__ import print_function\n",
        "import numpy as np\n",
        "\n",
        "from keras.preprocessing import sequence\n",
        "from keras.models import Sequential\n",
        "from keras.layers import Dense, Dropout, LSTM, Bidirectional, Activation, Conv1D, MaxPooling1D\n",
        "from keras import losses\n",
        "from sklearn.metrics import r2_score\n",
        "from tensorflow.keras import activations\n",
        "from keras import backend as K\n",
        "\n",
        "def root_mean_squared_error(y_true, y_pred):\n",
        "  return K.sqrt(K.mean(K.square(y_pred - y_true)))\n",
        "\n",
        "# Define a model\n",
        "losses.custom_loss = root_mean_squared_error\n",
        "batch_size = 128\n",
        "\n",
        "model = Sequential()\n",
        "\n",
        "model.add(Conv1D(16, 5, input_shape=(1000, 5)))\n",
        "model.add(Activation(activations.relu))\n",
        "model.add(MaxPooling1D(5))\n",
        "\n",
        "model.add(Conv1D(16, 5))\n",
        "model.add(Activation(activations.relu))\n",
        "model.add(MaxPooling1D(5))\n",
        "\n",
        "model.add(Bidirectional(LSTM(64)))\n",
        "model.add(Dropout(0.5))\n",
        "model.add(Dense(1000))\n",
        "\n",
        "model.compile('adam', losses.custom_loss, metrics=['accuracy', 'mean_squared_error', 'logcosh'])"
      ],
      "execution_count": 0,
      "outputs": [
        {
          "output_type": "stream",
          "text": [
            "Using TensorFlow backend.\n"
          ],
          "name": "stderr"
        }
      ]
    },
    {
      "cell_type": "code",
      "metadata": {
        "id": "5eAi_lOblmDU",
        "colab_type": "code",
        "colab": {}
      },
      "source": [
        "# Applies model for all 4/5 folds, trains ans saves result\n",
        "for i in range(5):\n",
        "  X_train = np.array([])\n",
        "  y_train = np.array([])\n",
        "  for j in range(5):\n",
        "    if i != j:\n",
        "      data_feat = np.array(sparse.csr_matrix.todense(sparse.load_npz(\"folds/folds_feat_{j}.npz\".format(j=j)))).reshape(-1, 1000, 5)\n",
        "      if ((X_train).shape[0] == 0):\n",
        "        X_train = data_feat\n",
        "      else:\n",
        "        X_train = np.concatenate((X_train, data_feat), axis=0)\n",
        "      \n",
        "      data_target = np.array(sparse.csr_matrix.todense(sparse.load_npz(\"folds/folds_target_{j}.npz\".format(j=j))))\n",
        "      if ((y_train).shape[0] == 0):\n",
        "        y_train = data_target\n",
        "      else:\n",
        "        y_train = np.concatenate((y_train, data_target), axis=0)\n",
        "\n",
        "  model.fit(X_train, y_train,\n",
        "          batch_size=batch_size,\n",
        "          epochs=30, verbose=1)\n",
        "  model.save('folds/model_{i}'.format(i=i))"
      ],
      "execution_count": 0,
      "outputs": []
    },
    {
      "cell_type": "code",
      "metadata": {
        "id": "DFY3ddP8Qix-",
        "colab_type": "code",
        "outputId": "9d7dc5b0-d37d-4907-e983-a041496308c5",
        "colab": {
          "base_uri": "https://localhost:8080/",
          "height": 350
        }
      },
      "source": [
        "# Plots ROC function\n",
        "X_test = np.array(sparse.csr_matrix.todense(sparse.load_npz(\"folds/folds_feat_{j}.npz\".format(j=0)))).reshape(-1, 1000, 5)\n",
        "y_test = np.array(sparse.csr_matrix.todense(sparse.load_npz(\"folds/folds_target_{j}.npz\".format(j=0))))\n",
        "y_test_binary = y_test >= 0.35\n",
        "probs = model.predict_proba(X_test)\n",
        "fpr, tpr, threshold = metrics.roc_curve(y_test_binary.flatten(), probs.flatten())\n",
        "roc_auc = metrics.auc(fpr, tpr)\n",
        "\n",
        "plt.title('Receiver Operating Characteristic')\n",
        "plt.plot(fpr, tpr, 'b', label = 'AUC = %0.2f' % roc_auc)\n",
        "plt.legend(loc = 'lower right')\n",
        "plt.plot([0, 1], [0, 1],'r--')\n",
        "plt.xlim([0, 1])\n",
        "plt.ylim([0, 1])\n",
        "plt.ylabel('True Positive Rate')\n",
        "plt.xlabel('False Positive Rate')\n",
        "plt.show()"
      ],
      "execution_count": 0,
      "outputs": [
        {
          "output_type": "stream",
          "text": [
            "/usr/local/lib/python3.6/dist-packages/keras/engine/sequential.py:248: UserWarning: Network returning invalid probability values. The last layer might not normalize predictions into probabilities (like softmax or sigmoid would).\n",
            "  warnings.warn('Network returning invalid probability values. '\n"
          ],
          "name": "stderr"
        },
        {
          "output_type": "display_data",
          "data": {
            "image/png": "[encoded data removed]",
            "text/plain": [
              "<Figure size 432x288 with 1 Axes>"
            ]
          },
          "metadata": {
            "tags": [],
            "needs_background": "light"
          }
        }
      ]
    }
  ]
}