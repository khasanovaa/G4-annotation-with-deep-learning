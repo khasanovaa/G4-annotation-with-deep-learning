{
  "nbformat": 4,
  "nbformat_minor": 0,
  "metadata": {
    "colab": {
      "name": "Data_preprocessing.ipynb",
      "provenance": [],
      "collapsed_sections": []
    },
    "kernelspec": {
      "name": "python3",
      "display_name": "Python 3"
    },
    "accelerator": "GPU"
  },
  "cells": [
    {
      "cell_type": "markdown",
      "metadata": {
        "id": "ABNyd9ot5Prr",
        "colab_type": "text"
      },
      "source": [
        "# Download data\n"
      ]
    },
    {
      "cell_type": "code",
      "metadata": {
        "id": "gEW9pR3DvK7x",
        "colab_type": "code",
        "outputId": "8d1391d5-b7da-412b-8a71-8a513545966c",
        "colab": {
          "base_uri": "https://localhost:8080/",
          "height": 141
        }
      },
      "source": [
        "# If one doesn't have biopython installed, it can be uploaded by following command\n",
        "!pip3 install biopython"
      ],
      "execution_count": 0,
      "outputs": [
        {
          "output_type": "stream",
          "text": [
            "Collecting biopython\n",
            "\u001b[?25l  Downloading https://files.pythonhosted.org/packages/83/3d/e0c8a993dbea1136be90c31345aefc5babdd5046cd52f81c18fc3fdad865/biopython-1.76-cp36-cp36m-manylinux1_x86_64.whl (2.3MB)\n",
            "\r\u001b[K     |▏                               | 10kB 25.6MB/s eta 0:00:01\r\u001b[K     |▎                               | 20kB 31.4MB/s eta 0:00:01\r\u001b[K     |▍                               | 30kB 36.6MB/s eta 0:00:01\r\u001b[K     |▋                               | 40kB 40.1MB/s eta 0:00:01\r\u001b[K     |▊                               | 51kB 28.6MB/s eta 0:00:01\r\u001b[K     |▉                               | 61kB 30.9MB/s eta 0:00:01\r\u001b[K     |█                               | 71kB 30.4MB/s eta 0:00:01\r\u001b[K     |█▏                              | 81kB 30.8MB/s eta 0:00:01\r\u001b[K     |█▎                              | 92kB 32.1MB/s eta 0:00:01\r\u001b[K     |█▍                              | 102kB 33.5MB/s eta 0:00:01\r\u001b[K     |█▋                              | 112kB 33.5MB/s eta 0:00:01\r\u001b[K     |█▊                              | 122kB 33.5MB/s eta 0:00:01\r\u001b[K     |█▉                              | 133kB 33.5MB/s eta 0:00:01\r\u001b[K     |██                              | 143kB 33.5MB/s eta 0:00:01\r\u001b[K     |██▏                             | 153kB 33.5MB/s eta 0:00:01\r\u001b[K     |██▎                             | 163kB 33.5MB/s eta 0:00:01\r\u001b[K     |██▌                             | 174kB 33.5MB/s eta 0:00:01\r\u001b[K     |██▋                             | 184kB 33.5MB/s eta 0:00:01\r\u001b[K     |██▊                             | 194kB 33.5MB/s eta 0:00:01\r\u001b[K     |██▉                             | 204kB 33.5MB/s eta 0:00:01\r\u001b[K     |███                             | 215kB 33.5MB/s eta 0:00:01\r\u001b[K     |███▏                            | 225kB 33.5MB/s eta 0:00:01\r\u001b[K     |███▎                            | 235kB 33.5MB/s eta 0:00:01\r\u001b[K     |███▌                            | 245kB 33.5MB/s eta 0:00:01\r\u001b[K     |███▋                            | 256kB 33.5MB/s eta 0:00:01\r\u001b[K     |███▊                            | 266kB 33.5MB/s eta 0:00:01\r\u001b[K     |███▉                            | 276kB 33.5MB/s eta 0:00:01\r\u001b[K     |████                            | 286kB 33.5MB/s eta 0:00:01\r\u001b[K     |████▏                           | 296kB 33.5MB/s eta 0:00:01\r\u001b[K     |████▎                           | 307kB 33.5MB/s eta 0:00:01\r\u001b[K     |████▌                           | 317kB 33.5MB/s eta 0:00:01\r\u001b[K     |████▋                           | 327kB 33.5MB/s eta 0:00:01\r\u001b[K     |████▊                           | 337kB 33.5MB/s eta 0:00:01\r\u001b[K     |█████                           | 348kB 33.5MB/s eta 0:00:01\r\u001b[K     |█████                           | 358kB 33.5MB/s eta 0:00:01\r\u001b[K     |█████▏                          | 368kB 33.5MB/s eta 0:00:01\r\u001b[K     |█████▎                          | 378kB 33.5MB/s eta 0:00:01\r\u001b[K     |█████▌                          | 389kB 33.5MB/s eta 0:00:01\r\u001b[K     |█████▋                          | 399kB 33.5MB/s eta 0:00:01\r\u001b[K     |█████▊                          | 409kB 33.5MB/s eta 0:00:01\r\u001b[K     |██████                          | 419kB 33.5MB/s eta 0:00:01\r\u001b[K     |██████                          | 430kB 33.5MB/s eta 0:00:01\r\u001b[K     |██████▏                         | 440kB 33.5MB/s eta 0:00:01\r\u001b[K     |██████▍                         | 450kB 33.5MB/s eta 0:00:01\r\u001b[K     |██████▌                         | 460kB 33.5MB/s eta 0:00:01\r\u001b[K     |██████▋                         | 471kB 33.5MB/s eta 0:00:01\r\u001b[K     |██████▊                         | 481kB 33.5MB/s eta 0:00:01\r\u001b[K     |███████                         | 491kB 33.5MB/s eta 0:00:01\r\u001b[K     |███████                         | 501kB 33.5MB/s eta 0:00:01\r\u001b[K     |███████▏                        | 512kB 33.5MB/s eta 0:00:01\r\u001b[K     |███████▍                        | 522kB 33.5MB/s eta 0:00:01\r\u001b[K     |███████▌                        | 532kB 33.5MB/s eta 0:00:01\r\u001b[K     |███████▋                        | 542kB 33.5MB/s eta 0:00:01\r\u001b[K     |███████▊                        | 552kB 33.5MB/s eta 0:00:01\r\u001b[K     |████████                        | 563kB 33.5MB/s eta 0:00:01\r\u001b[K     |████████                        | 573kB 33.5MB/s eta 0:00:01\r\u001b[K     |████████▏                       | 583kB 33.5MB/s eta 0:00:01\r\u001b[K     |████████▍                       | 593kB 33.5MB/s eta 0:00:01\r\u001b[K     |████████▌                       | 604kB 33.5MB/s eta 0:00:01\r\u001b[K     |████████▋                       | 614kB 33.5MB/s eta 0:00:01\r\u001b[K     |████████▉                       | 624kB 33.5MB/s eta 0:00:01\r\u001b[K     |█████████                       | 634kB 33.5MB/s eta 0:00:01\r\u001b[K     |█████████                       | 645kB 33.5MB/s eta 0:00:01\r\u001b[K     |█████████▏                      | 655kB 33.5MB/s eta 0:00:01\r\u001b[K     |█████████▍                      | 665kB 33.5MB/s eta 0:00:01\r\u001b[K     |█████████▌                      | 675kB 33.5MB/s eta 0:00:01\r\u001b[K     |█████████▋                      | 686kB 33.5MB/s eta 0:00:01\r\u001b[K     |█████████▉                      | 696kB 33.5MB/s eta 0:00:01\r\u001b[K     |██████████                      | 706kB 33.5MB/s eta 0:00:01\r\u001b[K     |██████████                      | 716kB 33.5MB/s eta 0:00:01\r\u001b[K     |██████████▎                     | 727kB 33.5MB/s eta 0:00:01\r\u001b[K     |██████████▍                     | 737kB 33.5MB/s eta 0:00:01\r\u001b[K     |██████████▌                     | 747kB 33.5MB/s eta 0:00:01\r\u001b[K     |██████████▋                     | 757kB 33.5MB/s eta 0:00:01\r\u001b[K     |██████████▉                     | 768kB 33.5MB/s eta 0:00:01\r\u001b[K     |███████████                     | 778kB 33.5MB/s eta 0:00:01\r\u001b[K     |███████████                     | 788kB 33.5MB/s eta 0:00:01\r\u001b[K     |███████████▎                    | 798kB 33.5MB/s eta 0:00:01\r\u001b[K     |███████████▍                    | 808kB 33.5MB/s eta 0:00:01\r\u001b[K     |███████████▌                    | 819kB 33.5MB/s eta 0:00:01\r\u001b[K     |███████████▋                    | 829kB 33.5MB/s eta 0:00:01\r\u001b[K     |███████████▉                    | 839kB 33.5MB/s eta 0:00:01\r\u001b[K     |████████████                    | 849kB 33.5MB/s eta 0:00:01\r\u001b[K     |████████████                    | 860kB 33.5MB/s eta 0:00:01\r\u001b[K     |████████████▎                   | 870kB 33.5MB/s eta 0:00:01\r\u001b[K     |████████████▍                   | 880kB 33.5MB/s eta 0:00:01\r\u001b[K     |████████████▌                   | 890kB 33.5MB/s eta 0:00:01\r\u001b[K     |████████████▊                   | 901kB 33.5MB/s eta 0:00:01\r\u001b[K     |████████████▉                   | 911kB 33.5MB/s eta 0:00:01\r\u001b[K     |█████████████                   | 921kB 33.5MB/s eta 0:00:01\r\u001b[K     |█████████████                   | 931kB 33.5MB/s eta 0:00:01\r\u001b[K     |█████████████▎                  | 942kB 33.5MB/s eta 0:00:01\r\u001b[K     |█████████████▍                  | 952kB 33.5MB/s eta 0:00:01\r\u001b[K     |█████████████▌                  | 962kB 33.5MB/s eta 0:00:01\r\u001b[K     |█████████████▊                  | 972kB 33.5MB/s eta 0:00:01\r\u001b[K     |█████████████▉                  | 983kB 33.5MB/s eta 0:00:01\r\u001b[K     |██████████████                  | 993kB 33.5MB/s eta 0:00:01\r\u001b[K     |██████████████                  | 1.0MB 33.5MB/s eta 0:00:01\r\u001b[K     |██████████████▎                 | 1.0MB 33.5MB/s eta 0:00:01\r\u001b[K     |██████████████▍                 | 1.0MB 33.5MB/s eta 0:00:01\r\u001b[K     |██████████████▌                 | 1.0MB 33.5MB/s eta 0:00:01\r\u001b[K     |██████████████▊                 | 1.0MB 33.5MB/s eta 0:00:01\r\u001b[K     |██████████████▉                 | 1.1MB 33.5MB/s eta 0:00:01\r\u001b[K     |███████████████                 | 1.1MB 33.5MB/s eta 0:00:01\r\u001b[K     |███████████████▏                | 1.1MB 33.5MB/s eta 0:00:01\r\u001b[K     |███████████████▎                | 1.1MB 33.5MB/s eta 0:00:01\r\u001b[K     |███████████████▍                | 1.1MB 33.5MB/s eta 0:00:01\r\u001b[K     |███████████████▌                | 1.1MB 33.5MB/s eta 0:00:01\r\u001b[K     |███████████████▊                | 1.1MB 33.5MB/s eta 0:00:01\r\u001b[K     |███████████████▉                | 1.1MB 33.5MB/s eta 0:00:01\r\u001b[K     |████████████████                | 1.1MB 33.5MB/s eta 0:00:01\r\u001b[K     |████████████████▏               | 1.1MB 33.5MB/s eta 0:00:01\r\u001b[K     |████████████████▎               | 1.2MB 33.5MB/s eta 0:00:01\r\u001b[K     |████████████████▍               | 1.2MB 33.5MB/s eta 0:00:01\r\u001b[K     |████████████████▋               | 1.2MB 33.5MB/s eta 0:00:01\r\u001b[K     |████████████████▊               | 1.2MB 33.5MB/s eta 0:00:01\r\u001b[K     |████████████████▉               | 1.2MB 33.5MB/s eta 0:00:01\r\u001b[K     |█████████████████               | 1.2MB 33.5MB/s eta 0:00:01\r\u001b[K     |█████████████████▏              | 1.2MB 33.5MB/s eta 0:00:01\r\u001b[K     |█████████████████▎              | 1.2MB 33.5MB/s eta 0:00:01\r\u001b[K     |█████████████████▍              | 1.2MB 33.5MB/s eta 0:00:01\r\u001b[K     |█████████████████▋              | 1.2MB 33.5MB/s eta 0:00:01\r\u001b[K     |█████████████████▊              | 1.3MB 33.5MB/s eta 0:00:01\r\u001b[K     |█████████████████▉              | 1.3MB 33.5MB/s eta 0:00:01\r\u001b[K     |██████████████████              | 1.3MB 33.5MB/s eta 0:00:01\r\u001b[K     |██████████████████▏             | 1.3MB 33.5MB/s eta 0:00:01\r\u001b[K     |██████████████████▎             | 1.3MB 33.5MB/s eta 0:00:01\r\u001b[K     |██████████████████▍             | 1.3MB 33.5MB/s eta 0:00:01\r\u001b[K     |██████████████████▋             | 1.3MB 33.5MB/s eta 0:00:01\r\u001b[K     |██████████████████▊             | 1.3MB 33.5MB/s eta 0:00:01\r\u001b[K     |██████████████████▉             | 1.3MB 33.5MB/s eta 0:00:01\r\u001b[K     |███████████████████             | 1.4MB 33.5MB/s eta 0:00:01\r\u001b[K     |███████████████████▏            | 1.4MB 33.5MB/s eta 0:00:01\r\u001b[K     |███████████████████▎            | 1.4MB 33.5MB/s eta 0:00:01\r\u001b[K     |███████████████████▍            | 1.4MB 33.5MB/s eta 0:00:01\r\u001b[K     |███████████████████▋            | 1.4MB 33.5MB/s eta 0:00:01\r\u001b[K     |███████████████████▊            | 1.4MB 33.5MB/s eta 0:00:01\r\u001b[K     |███████████████████▉            | 1.4MB 33.5MB/s eta 0:00:01\r\u001b[K     |████████████████████            | 1.4MB 33.5MB/s eta 0:00:01\r\u001b[K     |████████████████████▏           | 1.4MB 33.5MB/s eta 0:00:01\r\u001b[K     |████████████████████▎           | 1.4MB 33.5MB/s eta 0:00:01\r\u001b[K     |████████████████████▌           | 1.5MB 33.5MB/s eta 0:00:01\r\u001b[K     |████████████████████▋           | 1.5MB 33.5MB/s eta 0:00:01\r\u001b[K     |████████████████████▊           | 1.5MB 33.5MB/s eta 0:00:01\r\u001b[K     |████████████████████▉           | 1.5MB 33.5MB/s eta 0:00:01\r\u001b[K     |█████████████████████           | 1.5MB 33.5MB/s eta 0:00:01\r\u001b[K     |█████████████████████▏          | 1.5MB 33.5MB/s eta 0:00:01\r\u001b[K     |█████████████████████▎          | 1.5MB 33.5MB/s eta 0:00:01\r\u001b[K     |█████████████████████▌          | 1.5MB 33.5MB/s eta 0:00:01\r\u001b[K     |█████████████████████▋          | 1.5MB 33.5MB/s eta 0:00:01\r\u001b[K     |█████████████████████▊          | 1.5MB 33.5MB/s eta 0:00:01\r\u001b[K     |█████████████████████▉          | 1.6MB 33.5MB/s eta 0:00:01\r\u001b[K     |██████████████████████          | 1.6MB 33.5MB/s eta 0:00:01\r\u001b[K     |██████████████████████▏         | 1.6MB 33.5MB/s eta 0:00:01\r\u001b[K     |██████████████████████▎         | 1.6MB 33.5MB/s eta 0:00:01\r\u001b[K     |██████████████████████▌         | 1.6MB 33.5MB/s eta 0:00:01\r\u001b[K     |██████████████████████▋         | 1.6MB 33.5MB/s eta 0:00:01\r\u001b[K     |██████████████████████▊         | 1.6MB 33.5MB/s eta 0:00:01\r\u001b[K     |███████████████████████         | 1.6MB 33.5MB/s eta 0:00:01\r\u001b[K     |███████████████████████         | 1.6MB 33.5MB/s eta 0:00:01\r\u001b[K     |███████████████████████▏        | 1.6MB 33.5MB/s eta 0:00:01\r\u001b[K     |███████████████████████▎        | 1.7MB 33.5MB/s eta 0:00:01\r\u001b[K     |███████████████████████▌        | 1.7MB 33.5MB/s eta 0:00:01\r\u001b[K     |███████████████████████▋        | 1.7MB 33.5MB/s eta 0:00:01\r\u001b[K     |███████████████████████▊        | 1.7MB 33.5MB/s eta 0:00:01\r\u001b[K     |████████████████████████        | 1.7MB 33.5MB/s eta 0:00:01\r\u001b[K     |████████████████████████        | 1.7MB 33.5MB/s eta 0:00:01\r\u001b[K     |████████████████████████▏       | 1.7MB 33.5MB/s eta 0:00:01\r\u001b[K     |████████████████████████▎       | 1.7MB 33.5MB/s eta 0:00:01\r\u001b[K     |████████████████████████▌       | 1.7MB 33.5MB/s eta 0:00:01\r\u001b[K     |████████████████████████▋       | 1.8MB 33.5MB/s eta 0:00:01\r\u001b[K     |████████████████████████▊       | 1.8MB 33.5MB/s eta 0:00:01\r\u001b[K     |█████████████████████████       | 1.8MB 33.5MB/s eta 0:00:01\r\u001b[K     |█████████████████████████       | 1.8MB 33.5MB/s eta 0:00:01\r\u001b[K     |█████████████████████████▏      | 1.8MB 33.5MB/s eta 0:00:01\r\u001b[K     |█████████████████████████▍      | 1.8MB 33.5MB/s eta 0:00:01\r\u001b[K     |█████████████████████████▌      | 1.8MB 33.5MB/s eta 0:00:01\r\u001b[K     |█████████████████████████▋      | 1.8MB 33.5MB/s eta 0:00:01\r\u001b[K     |█████████████████████████▊      | 1.8MB 33.5MB/s eta 0:00:01\r\u001b[K     |██████████████████████████      | 1.8MB 33.5MB/s eta 0:00:01\r\u001b[K     |██████████████████████████      | 1.9MB 33.5MB/s eta 0:00:01\r\u001b[K     |██████████████████████████▏     | 1.9MB 33.5MB/s eta 0:00:01\r\u001b[K     |██████████████████████████▍     | 1.9MB 33.5MB/s eta 0:00:01\r\u001b[K     |██████████████████████████▌     | 1.9MB 33.5MB/s eta 0:00:01\r\u001b[K     |██████████████████████████▋     | 1.9MB 33.5MB/s eta 0:00:01\r\u001b[K     |██████████████████████████▉     | 1.9MB 33.5MB/s eta 0:00:01\r\u001b[K     |███████████████████████████     | 1.9MB 33.5MB/s eta 0:00:01\r\u001b[K     |███████████████████████████     | 1.9MB 33.5MB/s eta 0:00:01\r\u001b[K     |███████████████████████████▏    | 1.9MB 33.5MB/s eta 0:00:01\r\u001b[K     |███████████████████████████▍    | 1.9MB 33.5MB/s eta 0:00:01\r\u001b[K     |███████████████████████████▌    | 2.0MB 33.5MB/s eta 0:00:01\r\u001b[K     |███████████████████████████▋    | 2.0MB 33.5MB/s eta 0:00:01\r\u001b[K     |███████████████████████████▉    | 2.0MB 33.5MB/s eta 0:00:01\r\u001b[K     |████████████████████████████    | 2.0MB 33.5MB/s eta 0:00:01\r\u001b[K     |████████████████████████████    | 2.0MB 33.5MB/s eta 0:00:01\r\u001b[K     |████████████████████████████▏   | 2.0MB 33.5MB/s eta 0:00:01\r\u001b[K     |████████████████████████████▍   | 2.0MB 33.5MB/s eta 0:00:01\r\u001b[K     |████████████████████████████▌   | 2.0MB 33.5MB/s eta 0:00:01\r\u001b[K     |████████████████████████████▋   | 2.0MB 33.5MB/s eta 0:00:01\r\u001b[K     |████████████████████████████▉   | 2.0MB 33.5MB/s eta 0:00:01\r\u001b[K     |█████████████████████████████   | 2.1MB 33.5MB/s eta 0:00:01\r\u001b[K     |█████████████████████████████   | 2.1MB 33.5MB/s eta 0:00:01\r\u001b[K     |█████████████████████████████▎  | 2.1MB 33.5MB/s eta 0:00:01\r\u001b[K     |█████████████████████████████▍  | 2.1MB 33.5MB/s eta 0:00:01\r\u001b[K     |█████████████████████████████▌  | 2.1MB 33.5MB/s eta 0:00:01\r\u001b[K     |█████████████████████████████▋  | 2.1MB 33.5MB/s eta 0:00:01\r\u001b[K     |█████████████████████████████▉  | 2.1MB 33.5MB/s eta 0:00:01\r\u001b[K     |██████████████████████████████  | 2.1MB 33.5MB/s eta 0:00:01\r\u001b[K     |██████████████████████████████  | 2.1MB 33.5MB/s eta 0:00:01\r\u001b[K     |██████████████████████████████▎ | 2.2MB 33.5MB/s eta 0:00:01\r\u001b[K     |██████████████████████████████▍ | 2.2MB 33.5MB/s eta 0:00:01\r\u001b[K     |██████████████████████████████▌ | 2.2MB 33.5MB/s eta 0:00:01\r\u001b[K     |██████████████████████████████▊ | 2.2MB 33.5MB/s eta 0:00:01\r\u001b[K     |██████████████████████████████▉ | 2.2MB 33.5MB/s eta 0:00:01\r\u001b[K     |███████████████████████████████ | 2.2MB 33.5MB/s eta 0:00:01\r\u001b[K     |███████████████████████████████ | 2.2MB 33.5MB/s eta 0:00:01\r\u001b[K     |███████████████████████████████▎| 2.2MB 33.5MB/s eta 0:00:01\r\u001b[K     |███████████████████████████████▍| 2.2MB 33.5MB/s eta 0:00:01\r\u001b[K     |███████████████████████████████▌| 2.2MB 33.5MB/s eta 0:00:01\r\u001b[K     |███████████████████████████████▊| 2.3MB 33.5MB/s eta 0:00:01\r\u001b[K     |███████████████████████████████▉| 2.3MB 33.5MB/s eta 0:00:01\r\u001b[K     |████████████████████████████████| 2.3MB 33.5MB/s eta 0:00:01\r\u001b[K     |████████████████████████████████| 2.3MB 33.5MB/s \n",
            "\u001b[?25hRequirement already satisfied: numpy in /usr/local/lib/python3.6/dist-packages (from biopython) (1.18.4)\n",
            "Installing collected packages: biopython\n",
            "Successfully installed biopython-1.76\n"
          ],
          "name": "stdout"
        }
      ]
    },
    {
      "cell_type": "code",
      "metadata": {
        "id": "cjcZzauovNQ5",
        "colab_type": "code",
        "colab": {}
      },
      "source": [
        "from Bio import SeqIO\n",
        "import pandas as pd\n",
        "import numpy as np\n",
        "import csv\n",
        "import random\n",
        "from scipy import sparse\n",
        "import gc\n",
        "from sklearn.preprocessing import OneHotEncoder, LabelBinarizer"
      ],
      "execution_count": 0,
      "outputs": []
    },
    {
      "cell_type": "code",
      "metadata": {
        "id": "NkgkofTMvVki",
        "colab_type": "code",
        "outputId": "e0d1b9b7-fe30-4dfc-f6a0-85136acd5375",
        "colab": {
          "base_uri": "https://localhost:8080/",
          "height": 317
        }
      },
      "source": [
        "intervals = pd.read_csv('data/GSM3003542_Drosophila_all_w15_th-1_plus.hits.max.PDS.w50.35.bed', sep='\\t', comment='t', header=None)\n",
        "intervals_strand2 = pd.read_csv('data/GSM3003542_Drosophila_all_w15_th-1_minus.hits.max.PDS.w50.35.bed.gz', sep='\\t', comment='t', header=None)\n",
        "intervals = pd.concat([intervals,intervals_strand2], ignore_index=True)\n",
        "\n",
        "# Define dataframe from given data\n",
        "intervals.columns = ['Chr', 'Begin', 'End', 'mm']\n",
        "intervals['length'] = intervals['End'] - intervals['Begin']\n",
        "intervals['prob'] = intervals['mm'] / 100\n",
        "\n",
        "chrome_names = list(intervals['Chr'].unique())\n",
        "\n",
        "print(\"amount of segments :\", len(intervals))\n",
        "print(\"part of segments with length <= 300:\", len(intervals[intervals['length'] <= 300]) / len(intervals['length']))\n",
        "print(\"median :\", np.median(intervals['length']))\n",
        "hist = intervals['length'].hist(bins=50)"
      ],
      "execution_count": 0,
      "outputs": [
        {
          "output_type": "stream",
          "text": [
            "amount of segments : 55263\n",
            "amount of segments with length <= 300: 0.9912599750285\n",
            "median : 135.0\n"
          ],
          "name": "stdout"
        },
        {
          "output_type": "display_data",
          "data": {
            "image/png": "[encoded data removed]",
            "text/plain": [
              "<Figure size 432x288 with 1 Axes>"
            ]
          },
          "metadata": {
            "tags": [],
            "needs_background": "light"
          }
        }
      ]
    },
    {
      "cell_type": "code",
      "metadata": {
        "id": "hElCeQAJvpa4",
        "colab_type": "code",
        "colab": {}
      },
      "source": [
        "# Uploads \n",
        "records = list(SeqIO.parse(\"data/dm6.fa\", \"fasta\"))\n",
        "gene_np = {}\n",
        "for record in records:\n",
        "  if record.name in chrome_names:\n",
        "    gene_np[record.name] = np.array(record.seq)"
      ],
      "execution_count": 0,
      "outputs": []
    },
    {
      "cell_type": "markdown",
      "metadata": {
        "id": "frkCIEbVzaO5",
        "colab_type": "text"
      },
      "source": [
        "#Cut segments\n"
      ]
    },
    {
      "cell_type": "code",
      "metadata": {
        "id": "daM72FuDvV7S",
        "colab_type": "code",
        "colab": {}
      },
      "source": [
        "gene_targets = {}\n",
        "seg_size = 1000\n",
        "data_target = pd.DataFrame()\n",
        "data_feat = pd.DataFrame()"
      ],
      "execution_count": 0,
      "outputs": []
    },
    {
      "cell_type": "code",
      "metadata": {
        "id": "Xktm2V-EzbqY",
        "colab_type": "code",
        "colab": {}
      },
      "source": [
        "# Defines and returns target for model training \n",
        "def Create_target(name):\n",
        "  chrome = gene_np[name]\n",
        "  intervals_chrom = intervals[intervals['Chr'] == name]\n",
        "  target = np.zeros(len(chrome))\n",
        "  for i, row in intervals_chrom.iterrows():\n",
        "    if (target[row.Begin : row.End].all() == 0):\n",
        "      target[row.Begin : row.End] = row.prob\n",
        "  return target\n",
        "\n",
        "# Cuts array for samples for training\n",
        "def CropBySegSize(target):\n",
        "  target = target[:(-(len(target) % seg_size))]\n",
        "  return np.array_split(target, len(target) / seg_size)\n",
        "  \n",
        "# Appends data array to dataframe\n",
        "def AppendToDf(dataframe, data):\n",
        "  df = pd.DataFrame(data)\n",
        "  dataframe = dataframe.append(df, ignore_index=True)\n",
        "  return dataframe\n",
        "\n",
        "# Defines all data for trainig model\n",
        "for name in chrome_names:\n",
        "  target = Create_target(name)\n",
        "  target = CropBySegSize(target)\n",
        "  target = np.array(target)\n",
        "\n",
        "  gene = gene_np[name]\n",
        "  gene = np.array(list(map(lambda x:x.lower(), gene)))\n",
        "  gene = CropBySegSize(gene)\n",
        "  gene = np.array(gene)\n",
        "\n",
        "  data_target = AppendToDf(data_target, target, name)\n",
        "  data_feat = AppendToDf(data_feat, gene, name)"
      ],
      "execution_count": 0,
      "outputs": []
    },
    {
      "cell_type": "code",
      "metadata": {
        "id": "B8ePVJESLN34",
        "colab_type": "code",
        "outputId": "af50366f-3b14-4dcc-f78c-fff0930ae78a",
        "colab": {
          "base_uri": "https://localhost:8080/",
          "height": 35
        }
      },
      "source": [
        "# Free some space\n",
        "intervals = []\n",
        "records = []\n",
        "record = []\n",
        "target = []\n",
        "gene = []\n",
        "gc.collect()"
      ],
      "execution_count": 0,
      "outputs": [
        {
          "output_type": "execute_result",
          "data": {
            "text/plain": [
              "0"
            ]
          },
          "metadata": {
            "tags": []
          },
          "execution_count": 9
        }
      ]
    },
    {
      "cell_type": "markdown",
      "metadata": {
        "id": "BPj2wDkx5J38",
        "colab_type": "text"
      },
      "source": [
        "# Split on folds and save data"
      ]
    },
    {
      "cell_type": "code",
      "metadata": {
        "id": "8y9w0EQmmC-R",
        "colab_type": "code",
        "colab": {}
      },
      "source": [
        "# Create indexes for splitting on folds\n",
        "indexes = np.arange(len(data_target))\n",
        "np.random.shuffle(indexes)\n",
        "folds_indexes = np.split(indexes, 5) "
      ],
      "execution_count": 0,
      "outputs": []
    },
    {
      "cell_type": "code",
      "metadata": {
        "id": "K2VQGt3z06Ua",
        "colab_type": "code",
        "colab": {}
      },
      "source": [
        "# Save some data that is needed for annotation\n",
        "with open('chrome_names.npy', 'wb') as f:\n",
        "  np.save(f, np.array(chrome_names))\n",
        "\n",
        "with open('folds_indexes.npy', 'wb') as f:\n",
        "  np.save(f, np.array(folds_indexes))"
      ],
      "execution_count": 0,
      "outputs": []
    },
    {
      "cell_type": "code",
      "metadata": {
        "id": "us-3o56NqlMC",
        "colab_type": "code",
        "colab": {}
      },
      "source": [
        "# Saves target\n",
        "for i in range(5):\n",
        "  path = \"folds/folds_target_{i}.npz\".format(i=i)\n",
        "  sparse.save_npz(path, sparse.csr.csr_matrix(data_target.values[folds_indexes[i]], dtype=np.float64))"
      ],
      "execution_count": 0,
      "outputs": []
    },
    {
      "cell_type": "code",
      "metadata": {
        "id": "dYgWc0VL6nqd",
        "colab_type": "code",
        "colab": {}
      },
      "source": [
        "# Saves features\n",
        "enc = OneHotEncoder(categories = [np.array(['a', 'c', 'g', 'n', 't'], dtype=object)] * 1000, sparse=True)\n",
        "for i in range(5):\n",
        "  fold_feat = enc.fit_transform(data_feat.values[folds_indexes[i]])\n",
        "  path = \"folds/folds_feat_{i}.npz\".format(i=i)\n",
        "  sparse.save_npz(path, fold_feat)"
      ],
      "execution_count": 0,
      "outputs": []
    }
  ]
}