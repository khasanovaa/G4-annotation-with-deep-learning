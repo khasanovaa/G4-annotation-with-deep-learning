{
  "nbformat": 4,
  "nbformat_minor": 0,
  "metadata": {
    "colab": {
      "name": "Annotation",
      "provenance": [],
      "collapsed_sections": [],
      "toc_visible": true
    },
    "kernelspec": {
      "name": "python3",
      "display_name": "Python 3"
    }
  },
  "cells": [
    {
      "cell_type": "code",
      "metadata": {
        "id": "ShFmYMgIkoSi",
        "colab_type": "code",
        "outputId": "c3ba6898-cba2-4892-fc23-1f03b1be6957",
        "colab": {
          "base_uri": "https://localhost:8080/",
          "height": 141
        }
      },
      "source": [
        "# If one doesn't have biopython installed, it can be uploaded by following command\n",
        "!pip3 install biopython"
      ],
      "execution_count": 2,
      "outputs": [
        {
          "output_type": "stream",
          "text": [
            "Collecting biopython\n",
            "\u001b[?25l  Downloading https://files.pythonhosted.org/packages/83/3d/e0c8a993dbea1136be90c31345aefc5babdd5046cd52f81c18fc3fdad865/biopython-1.76-cp36-cp36m-manylinux1_x86_64.whl (2.3MB)\n",
            "\u001b[K     |████████████████████████████████| 2.3MB 2.8MB/s \n",
            "\u001b[?25hRequirement already satisfied: numpy in /usr/local/lib/python3.6/dist-packages (from biopython) (1.18.4)\n",
            "Installing collected packages: biopython\n",
            "Successfully installed biopython-1.76\n"
          ],
          "name": "stdout"
        }
      ]
    },
    {
      "cell_type": "code",
      "metadata": {
        "id": "LCrahIwfEuLn",
        "colab_type": "code",
        "colab": {}
      },
      "source": [
        "import pandas as pd\n",
        "from Bio import SeqIO\n",
        "import numpy as np\n",
        "import gc\n",
        "from scipy import sparse\n",
        "from pandas import read_csv\n",
        "from sklearn.metrics import roc_auc_score\n",
        "from sklearn.preprocessing import OneHotEncoder\n",
        "import matplotlib.pyplot as plt"
      ],
      "execution_count": 0,
      "outputs": []
    },
    {
      "cell_type": "markdown",
      "metadata": {
        "id": "SCChzhcMoXL_",
        "colab_type": "text"
      },
      "source": [
        "# Upload data and models"
      ]
    },
    {
      "cell_type": "code",
      "metadata": {
        "id": "KffTdMlWE9bA",
        "colab_type": "code",
        "outputId": "9f93a6b8-447e-4329-c9a8-f6036e286222",
        "colab": {
          "base_uri": "https://localhost:8080/",
          "height": 34
        }
      },
      "source": [
        "from keras import backend as K\n",
        "from keras.models import load_model\n",
        "\n",
        "batch_size = 128\n",
        "\n",
        "def root_mean_squared_error(y_true, y_pred):\n",
        "  return K.sqrt(K.mean(K.square(y_pred - y_true)))"
      ],
      "execution_count": 8,
      "outputs": [
        {
          "output_type": "stream",
          "text": [
            "Using TensorFlow backend.\n"
          ],
          "name": "stderr"
        }
      ]
    },
    {
      "cell_type": "code",
      "metadata": {
        "id": "oHyFQ-wAdpKN",
        "colab_type": "code",
        "colab": {}
      },
      "source": [
        "# Uploads and returns list of names of chromosomes\n",
        "def GetChromeNames():\n",
        "  with open('chrome_names.npy', 'rb') as f:\n",
        "    return np.load(f)\n",
        "\n",
        "# Uploads and returns indexes for each fold \n",
        "def GetFoldsIndexes():\n",
        "  with open('folds_indexes.npy', 'rb') as f:\n",
        "    return np.load(f)\n",
        "\n",
        "# Uploads and returns sequenced gene infomation in np.array type\n",
        "def GetGeneNp():\n",
        "  records = list(SeqIO.parse(\"data/dm6.fa\", \"fasta\"))\n",
        "  gene_np = {}\n",
        "  for record in records:\n",
        "    if record.name in chrome_names:\n",
        "      gene_np[record.name] = np.array(record.seq)\n",
        "  return gene_np\n",
        "\n",
        "# Uploads and returns deep learned models for each fold\n",
        "def GetModels():\n",
        "  models = []\n",
        "  for i in range(5):\n",
        "    model = load_model('folds/model_{i}'.format(i=i),  \n",
        "                       custom_objects={'root_mean_squared_error': root_mean_squared_error})\n",
        "    models.append(model)\n",
        "  return models"
      ],
      "execution_count": 0,
      "outputs": []
    },
    {
      "cell_type": "code",
      "metadata": {
        "id": "MhHzE-t5e4_Z",
        "colab_type": "code",
        "colab": {}
      },
      "source": [
        "# Gets all data required data\n",
        "chrome_names = GetChromeNames()\n",
        "folds_indexes = GetFoldsIndexes()\n",
        "gene_np = GetGeneNp()\n",
        "models = GetModels()\n",
        "annotation = {}\n",
        "for name in chrome_names:\n",
        "  annotation[name] = np.zeros(len(gene_np[name]))"
      ],
      "execution_count": 0,
      "outputs": []
    },
    {
      "cell_type": "markdown",
      "metadata": {
        "id": "QKcTq0C-obAL",
        "colab_type": "text"
      },
      "source": [
        "# Annotation"
      ]
    },
    {
      "cell_type": "code",
      "metadata": {
        "id": "bgpdJlPsojrL",
        "colab_type": "code",
        "colab": {}
      },
      "source": [
        "# Returns index in general list for specific chromosome and place in it\n",
        "def GetIndexByPlace(chr_n, i, seg_size=1000):\n",
        "  answer = 0\n",
        "  for name in chrome_names:\n",
        "    if (name == chr_n):\n",
        "      break\n",
        "    answer += len(gene_np[name]) // seg_size\n",
        "  if (len(gene_np[chr_n]) / seg_size == i // seg_size):\n",
        "    return -1\n",
        "  return answer + (i + seg_size - 1) // seg_size\n",
        "\n",
        "# Returns chromosome and place in it by index in general list\n",
        "def GetPlaceByIndex(index, chrome_names, seg_size=1000):\n",
        "  i = index\n",
        "  for name in chrome_names:\n",
        "    if (i >= len(gene_np[name]) // seg_size):\n",
        "      i -= len(gene_np[name]) // seg_size\n",
        "    else:\n",
        "       return [name, i] \n",
        "\n",
        "# Returns model for specific  in it by index in general list\n",
        "def GetModelByIndex(index):\n",
        "  for i in range(5):\n",
        "    if (index in folds_indexes[i]):\n",
        "      return models[i]\n",
        "\n",
        "# Returns prediction of specific model for given data\n",
        "def PredictProba(X_train, model, seg_size=1000):\n",
        "  return model.predict_proba(X_train)\n",
        "\n",
        "# Puts predictions to answer array\n",
        "def PutResult(probs, indexes, chrome_names,  answer, seg_size=1000):\n",
        "  for i in range(len(probs)):\n",
        "    index = indexes[i]\n",
        "    name, pos = GetPlaceByIndex(index, chrome_names, seg_size)\n",
        "    answer[name][pos * seg_size : (pos + 1) * seg_size] = probs[i]"
      ],
      "execution_count": 0,
      "outputs": []
    },
    {
      "cell_type": "code",
      "metadata": {
        "id": "6oItXohuBYBe",
        "colab_type": "code",
        "colab": {}
      },
      "source": [
        "# Predicts and puts result for each fold\n",
        "for i in range(5):\n",
        "  model = models[i]\n",
        "  X_train = np.array(sparse.csr_matrix.todense(sparse.load_npz(\"folds/folds_feat_{i}.npz\".format(i=i)))).reshape(-1, 1000, 5)\n",
        "  probs = PredictProba(X_train, model)\n",
        "  PutResult(probs, folds_indexes[i], chrome_names, annotation)"
      ],
      "execution_count": 0,
      "outputs": []
    },
    {
      "cell_type": "markdown",
      "metadata": {
        "id": "QaONhU9ynhP1",
        "colab_type": "text"
      },
      "source": [
        "# Save results"
      ]
    },
    {
      "cell_type": "code",
      "metadata": {
        "id": "V-jAmNmZMM8p",
        "colab_type": "code",
        "colab": {}
      },
      "source": [
        "# Saves results for each chromosome in .npi format.\n",
        "for name in chrome_names:\n",
        "  with open('annotation/{name}.npy'.format(name=name), 'wb') as f:\n",
        "    np.save(f, np.array(annotation[name]))"
      ],
      "execution_count": 0,
      "outputs": []
    },
    {
      "cell_type": "markdown",
      "metadata": {
        "id": "3jXgQ42jnUZl",
        "colab_type": "text"
      },
      "source": [
        "# Examples"
      ]
    },
    {
      "cell_type": "code",
      "metadata": {
        "id": "RaCj8MBhrb0Z",
        "colab_type": "code",
        "outputId": "8ff9f2ec-5d03-4ad0-cc7d-9d307257a9ac",
        "colab": {
          "base_uri": "https://localhost:8080/",
          "height": 229
        }
      },
      "source": [
        "plt.figure(figsize=(9, 3))\n",
        "plt.plot(range(1000), annotation['chr2L'][28000:29000])\n",
        "plt.xlabel('length of segment')\n",
        "plt.ylabel('probability of formation G4')\n",
        "plt.grid(True)\n",
        "plt.ylim([0, 1])\n",
        "plt.plot(range(1000), [0.35] * 1000, color='darkred')\n",
        "plt.show()"
      ],
      "execution_count": 0,
      "outputs": [
        {
          "output_type": "display_data",
          "data": {
            "image/png": "[encoded data removed]",
            "text/plain": [
              "<Figure size 648x216 with 1 Axes>"
            ]
          },
          "metadata": {
            "tags": [],
            "needs_background": "light"
          }
        }
      ]
    },
    {
      "cell_type": "code",
      "metadata": {
        "id": "ZpsEU2KssALM",
        "colab_type": "code",
        "outputId": "68bad433-dc39-4f6f-c2cb-7822c16f0816",
        "colab": {
          "base_uri": "https://localhost:8080/",
          "height": 229
        }
      },
      "source": [
        "plt.figure(figsize=(9, 3))\n",
        "plt.plot(range(1000), annotation['chr2L'][846000:847000])\n",
        "plt.xlabel('length of segment')\n",
        "plt.ylabel('probability of formation G4')\n",
        "plt.grid(True)\n",
        "plt.plot(range(1000), [0.35] * 1000, color='darkred')\n",
        "plt.ylim([0, 1])\n",
        "plt.show()"
      ],
      "execution_count": 0,
      "outputs": [
        {
          "output_type": "display_data",
          "data": {
            "image/png": "[encoded data removed]",
            "text/plain": [
              "<Figure size 648x216 with 1 Axes>"
            ]
          },
          "metadata": {
            "tags": [],
            "needs_background": "light"
          }
        }
      ]
    },
    {
      "cell_type": "code",
      "metadata": {
        "id": "Bqpzmt5Vses9",
        "colab_type": "code",
        "outputId": "2d473139-c7b1-425e-86e9-34b850a4b10b",
        "colab": {
          "base_uri": "https://localhost:8080/",
          "height": 229
        }
      },
      "source": [
        "plt.figure(figsize=(9, 3))\n",
        "plt.plot(range(1000), annotation['chrX'][2000:3000])\n",
        "plt.xlabel('length of segment')\n",
        "plt.ylabel('probability of formation G4')\n",
        "plt.grid(True)\n",
        "plt.plot(range(1000), [0.35] * 1000, color='darkred')\n",
        "plt.ylim([0, 1])\n",
        "plt.show()"
      ],
      "execution_count": 0,
      "outputs": [
        {
          "output_type": "display_data",
          "data": {
            "image/png": "[encoded data removed]",
            "text/plain": [
              "<Figure size 648x216 with 1 Axes>"
            ]
          },
          "metadata": {
            "tags": [],
            "needs_background": "light"
          }
        }
      ]
    },
    {
      "cell_type": "code",
      "metadata": {
        "id": "rLqkYNzM0Z8f",
        "colab_type": "code",
        "outputId": "35607b3a-586f-406c-b56e-71342162b827",
        "colab": {
          "base_uri": "https://localhost:8080/",
          "height": 229
        }
      },
      "source": [
        "plt.figure(figsize=(9, 3))\n",
        "plt.plot(range(1000), annotation['chr2L'][7000:8000])\n",
        "plt.xlabel('length of segment')\n",
        "plt.ylabel('probability of formation G4')\n",
        "plt.grid(True)\n",
        "plt.plot(range(1000), [0.35] * 1000, color='darkred')\n",
        "plt.ylim([0, 1])\n",
        "plt.show()"
      ],
      "execution_count": 0,
      "outputs": [
        {
          "output_type": "display_data",
          "data": {
            "image/png": "[encoded data removed]",
            "text/plain": [
              "<Figure size 648x216 with 1 Axes>"
            ]
          },
          "metadata": {
            "tags": [],
            "needs_background": "light"
          }
        }
      ]
    }
  ]
}